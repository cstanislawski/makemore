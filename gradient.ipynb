{
 "cells": [
  {
   "cell_type": "code",
   "execution_count": 73,
   "metadata": {},
   "outputs": [],
   "source": [
    "words = open('names.txt', 'r').read().splitlines() "
   ]
  },
  {
   "cell_type": "code",
   "execution_count": 74,
   "metadata": {},
   "outputs": [
    {
     "data": {
      "text/plain": [
       "['emma',\n",
       " 'olivia',\n",
       " 'ava',\n",
       " 'isabella',\n",
       " 'sophia',\n",
       " 'charlotte',\n",
       " 'mia',\n",
       " 'amelia',\n",
       " 'harper',\n",
       " 'evelyn']"
      ]
     },
     "execution_count": 74,
     "metadata": {},
     "output_type": "execute_result"
    }
   ],
   "source": [
    "words[:10]"
   ]
  },
  {
   "cell_type": "code",
   "execution_count": 75,
   "metadata": {},
   "outputs": [
    {
     "data": {
      "text/plain": [
       "32033"
      ]
     },
     "execution_count": 75,
     "metadata": {},
     "output_type": "execute_result"
    }
   ],
   "source": [
    "len(words)"
   ]
  },
  {
   "cell_type": "code",
   "execution_count": 76,
   "metadata": {},
   "outputs": [
    {
     "data": {
      "text/plain": [
       "2"
      ]
     },
     "execution_count": 76,
     "metadata": {},
     "output_type": "execute_result"
    }
   ],
   "source": [
    "min(len(word) for word in words)"
   ]
  },
  {
   "cell_type": "code",
   "execution_count": 77,
   "metadata": {},
   "outputs": [
    {
     "data": {
      "text/plain": [
       "15"
      ]
     },
     "execution_count": 77,
     "metadata": {},
     "output_type": "execute_result"
    }
   ],
   "source": [
    "max(len(word) for word in words)"
   ]
  },
  {
   "cell_type": "code",
   "execution_count": 78,
   "metadata": {},
   "outputs": [],
   "source": [
    "# b = {}\n",
    "# for w in words:\n",
    "#     chs = ['<S>'] + list(w) + ['<E>']\n",
    "#     for ch1, ch2 in zip(chs, chs[1:]):\n",
    "#         bigram = (ch1, ch2)\n",
    "#         b[bigram] = b.get(bigram, 0) + 1\n",
    "#         # print(ch1, ch2)"
   ]
  },
  {
   "cell_type": "code",
   "execution_count": 79,
   "metadata": {},
   "outputs": [],
   "source": [
    "# sorted(b.items(), key = lambda kv: -kv[1])"
   ]
  },
  {
   "cell_type": "code",
   "execution_count": 80,
   "metadata": {},
   "outputs": [],
   "source": [
    "import torch"
   ]
  },
  {
   "cell_type": "code",
   "execution_count": 81,
   "metadata": {},
   "outputs": [],
   "source": [
    "chars = sorted(list(set(''.join(words))))\n",
    "stoi = {ch: i+1 for i, ch in enumerate(chars)}\n",
    "stoi['.'] = 0\n",
    "itos = {v: k for k, v in stoi.items()}"
   ]
  },
  {
   "cell_type": "code",
   "execution_count": 82,
   "metadata": {},
   "outputs": [
    {
     "name": "stdout",
     "output_type": "stream",
     "text": [
      ". e\n",
      "e m\n",
      "m m\n",
      "m a\n",
      "a .\n"
     ]
    }
   ],
   "source": [
    "# create training set of bigrams\n",
    "xs, ys = [], []\n",
    "\n",
    "for w in words[:1]:\n",
    "    chs = ['.'] + list(w) + ['.']\n",
    "    for ch1, ch2 in zip(chs, chs[1:]):\n",
    "        ix1 = stoi[ch1]\n",
    "        ix2 = stoi[ch2]\n",
    "        print(ch1,ch2)\n",
    "        xs.append(ix1)\n",
    "        ys.append(ix2)\n",
    "\n",
    "\n",
    "xs = torch.tensor(xs)\n",
    "ys = torch.tensor(ys)"
   ]
  },
  {
   "cell_type": "code",
   "execution_count": 83,
   "metadata": {},
   "outputs": [
    {
     "data": {
      "text/plain": [
       "tensor([ 0,  5, 13, 13,  1])"
      ]
     },
     "execution_count": 83,
     "metadata": {},
     "output_type": "execute_result"
    }
   ],
   "source": [
    "xs"
   ]
  },
  {
   "cell_type": "code",
   "execution_count": 84,
   "metadata": {},
   "outputs": [
    {
     "data": {
      "text/plain": [
       "tensor([ 5, 13, 13,  1,  0])"
      ]
     },
     "execution_count": 84,
     "metadata": {},
     "output_type": "execute_result"
    }
   ],
   "source": [
    "ys"
   ]
  },
  {
   "cell_type": "code",
   "execution_count": 85,
   "metadata": {},
   "outputs": [
    {
     "data": {
      "text/plain": [
       "tensor([[1., 0., 0., 0., 0., 0., 0., 0., 0., 0., 0., 0., 0., 0., 0., 0., 0., 0.,\n",
       "         0., 0., 0., 0., 0., 0., 0., 0., 0.],\n",
       "        [0., 0., 0., 0., 0., 1., 0., 0., 0., 0., 0., 0., 0., 0., 0., 0., 0., 0.,\n",
       "         0., 0., 0., 0., 0., 0., 0., 0., 0.],\n",
       "        [0., 0., 0., 0., 0., 0., 0., 0., 0., 0., 0., 0., 0., 1., 0., 0., 0., 0.,\n",
       "         0., 0., 0., 0., 0., 0., 0., 0., 0.],\n",
       "        [0., 0., 0., 0., 0., 0., 0., 0., 0., 0., 0., 0., 0., 1., 0., 0., 0., 0.,\n",
       "         0., 0., 0., 0., 0., 0., 0., 0., 0.],\n",
       "        [0., 1., 0., 0., 0., 0., 0., 0., 0., 0., 0., 0., 0., 0., 0., 0., 0., 0.,\n",
       "         0., 0., 0., 0., 0., 0., 0., 0., 0.]])"
      ]
     },
     "execution_count": 85,
     "metadata": {},
     "output_type": "execute_result"
    }
   ],
   "source": [
    "import torch.nn.functional as F\n",
    "xenc = F.one_hot(xs, num_classes=27).float() # turns the xs into a matrix which activates a particular element for easier operations\n",
    "xenc"
   ]
  },
  {
   "cell_type": "code",
   "execution_count": 86,
   "metadata": {},
   "outputs": [
    {
     "data": {
      "text/plain": [
       "torch.Size([5, 27])"
      ]
     },
     "execution_count": 86,
     "metadata": {},
     "output_type": "execute_result"
    }
   ],
   "source": [
    "xenc.shape"
   ]
  },
  {
   "cell_type": "code",
   "execution_count": 87,
   "metadata": {},
   "outputs": [
    {
     "data": {
      "text/plain": [
       "<matplotlib.image.AxesImage at 0x10c9670d0>"
      ]
     },
     "execution_count": 87,
     "metadata": {},
     "output_type": "execute_result"
    },
    {
     "data": {
      "image/png": "[encoded data removed]",
      "text/plain": [
       "<Figure size 640x480 with 1 Axes>"
      ]
     },
     "metadata": {},
     "output_type": "display_data"
    }
   ],
   "source": [
    "import matplotlib.pyplot as plt\n",
    "plt.imshow(xenc)"
   ]
  },
  {
   "cell_type": "code",
   "execution_count": 88,
   "metadata": {},
   "outputs": [
    {
     "data": {
      "text/plain": [
       "torch.float32"
      ]
     },
     "execution_count": 88,
     "metadata": {},
     "output_type": "execute_result"
    }
   ],
   "source": [
    "xenc.dtype"
   ]
  },
  {
   "cell_type": "code",
   "execution_count": 89,
   "metadata": {},
   "outputs": [],
   "source": [
    "g = torch.Generator().manual_seed(1337)\n",
    "\n",
    "W = torch.randn((27, 27), generator=g)\n",
    "xenc @ W # matrix multiplication (5, 27) @ (27, 27)"
   ]
  },
  {
   "cell_type": "code",
   "execution_count": 90,
   "metadata": {},
   "outputs": [
    {
     "data": {
      "text/plain": [
       "tensor(1.6685)"
      ]
     },
     "execution_count": 90,
     "metadata": {},
     "output_type": "execute_result"
    }
   ],
   "source": [
    "(xenc @ W)[3, 13]"
   ]
  },
  {
   "cell_type": "code",
   "execution_count": 91,
   "metadata": {},
   "outputs": [
    {
     "data": {
      "text/plain": [
       "tensor([0., 0., 0., 0., 0., 0., 0., 0., 0., 0., 0., 0., 0., 1., 0., 0., 0., 0.,\n",
       "        0., 0., 0., 0., 0., 0., 0., 0., 0.])"
      ]
     },
     "execution_count": 91,
     "metadata": {},
     "output_type": "execute_result"
    }
   ],
   "source": [
    "(xenc @ W)[3]"
   ]
  },
  {
   "cell_type": "code",
   "execution_count": 92,
   "metadata": {},
   "outputs": [
    {
     "data": {
      "text/plain": [
       "tensor([-0.2398, -0.5075, -0.0646, -1.0012,  0.2807, -0.1140, -1.3849,  1.1169,\n",
       "         0.8216,  0.4562, -2.8272,  1.1088, -2.1608,  1.6685,  0.3362, -2.1821,\n",
       "         0.6151,  0.0286, -2.1749, -0.1217, -1.2273,  0.1588, -0.4876, -0.1305,\n",
       "        -1.2803,  0.6117,  0.2877])"
      ]
     },
     "execution_count": 92,
     "metadata": {},
     "output_type": "execute_result"
    }
   ],
   "source": [
    "W[:, 13]"
   ]
  },
  {
   "cell_type": "code",
   "execution_count": 93,
   "metadata": {},
   "outputs": [
    {
     "data": {
      "text/plain": [
       "tensor(1.6685)"
      ]
     },
     "execution_count": 93,
     "metadata": {},
     "output_type": "execute_result"
    }
   ],
   "source": [
    "(xenc[3] * W[:, 13]).sum()"
   ]
  },
  {
   "cell_type": "code",
   "execution_count": 102,
   "metadata": {},
   "outputs": [
    {
     "name": "stdout",
     "output_type": "stream",
     "text": [
      "tensor([[ 1.1981,  0.9324,  0.6979,  0.4004,  1.8697,  1.0258,  2.5974,  1.0665,\n",
      "          1.4350,  3.2152,  0.2593,  0.6004,  1.2661,  0.7868,  0.3981,  4.6800,\n",
      "          3.8529,  0.8697,  1.3308,  2.6251,  0.1304,  1.6374,  4.4238,  1.8059,\n",
      "          1.1343,  0.2096,  0.3135],\n",
      "        [ 0.1859,  0.9737,  1.0769,  2.8626,  1.9697,  1.3589,  0.4737,  2.1033,\n",
      "          2.4294,  9.8497,  2.6147,  0.2166,  0.7473,  0.8923,  0.7308,  0.5330,\n",
      "          3.1221,  0.3711,  1.1853,  3.4037,  0.7909,  0.3474,  0.5198,  4.9081,\n",
      "          0.4968,  0.4082,  1.0684],\n",
      "        [ 0.4496,  1.3394,  3.7222,  3.5278,  0.7044,  0.1267,  2.8792,  0.3474,\n",
      "          2.6941,  0.9234,  2.9302,  1.2689,  1.7784,  5.3042,  1.8177,  0.1536,\n",
      "          3.6366,  0.6871,  0.1504,  1.7431,  2.3554,  0.4291,  1.6512,  0.3807,\n",
      "          0.4841,  1.1041,  1.8091],\n",
      "        [ 0.4496,  1.3394,  3.7222,  3.5278,  0.7044,  0.1267,  2.8792,  0.3474,\n",
      "          2.6941,  0.9234,  2.9302,  1.2689,  1.7784,  5.3042,  1.8177,  0.1536,\n",
      "          3.6366,  0.6871,  0.1504,  1.7431,  2.3554,  0.4291,  1.6512,  0.3807,\n",
      "          0.4841,  1.1041,  1.8091],\n",
      "        [ 0.7155,  1.5648,  0.4486,  4.5888, 12.2876,  0.5153,  0.7778,  2.7460,\n",
      "          1.1292,  1.1716,  3.1081,  0.3154,  0.7420,  0.6020,  0.3970,  1.7276,\n",
      "          0.2243,  0.2995,  1.7715,  0.5503,  0.4997,  5.1838,  0.4480,  3.8629,\n",
      "          0.7589,  0.2207,  8.2052]])\n",
      "tensor([[0.0294, 0.0229, 0.0171, 0.0098, 0.0459, 0.0252, 0.0637, 0.0262, 0.0352,\n",
      "         0.0789, 0.0064, 0.0147, 0.0311, 0.0193, 0.0098, 0.1148, 0.0945, 0.0213,\n",
      "         0.0326, 0.0644, 0.0032, 0.0402, 0.1085, 0.0443, 0.0278, 0.0051, 0.0077],\n",
      "        [0.0041, 0.0213, 0.0236, 0.0627, 0.0432, 0.0298, 0.0104, 0.0461, 0.0532,\n",
      "         0.2158, 0.0573, 0.0047, 0.0164, 0.0196, 0.0160, 0.0117, 0.0684, 0.0081,\n",
      "         0.0260, 0.0746, 0.0173, 0.0076, 0.0114, 0.1075, 0.0109, 0.0089, 0.0234],\n",
      "        [0.0101, 0.0302, 0.0838, 0.0795, 0.0159, 0.0029, 0.0648, 0.0078, 0.0607,\n",
      "         0.0208, 0.0660, 0.0286, 0.0401, 0.1195, 0.0409, 0.0035, 0.0819, 0.0155,\n",
      "         0.0034, 0.0393, 0.0531, 0.0097, 0.0372, 0.0086, 0.0109, 0.0249, 0.0407],\n",
      "        [0.0101, 0.0302, 0.0838, 0.0795, 0.0159, 0.0029, 0.0648, 0.0078, 0.0607,\n",
      "         0.0208, 0.0660, 0.0286, 0.0401, 0.1195, 0.0409, 0.0035, 0.0819, 0.0155,\n",
      "         0.0034, 0.0393, 0.0531, 0.0097, 0.0372, 0.0086, 0.0109, 0.0249, 0.0407],\n",
      "        [0.0130, 0.0285, 0.0082, 0.0836, 0.2240, 0.0094, 0.0142, 0.0501, 0.0206,\n",
      "         0.0214, 0.0567, 0.0057, 0.0135, 0.0110, 0.0072, 0.0315, 0.0041, 0.0055,\n",
      "         0.0323, 0.0100, 0.0091, 0.0945, 0.0082, 0.0704, 0.0138, 0.0040, 0.1496]])\n"
     ]
    }
   ],
   "source": [
    "logits = xenc @ W\n",
    "# exponentiated outputs have only positive numbers & range from 0 to +inf\n",
    "# x<0 gives us y<1, x>0 gives us y>0 growing to +inf\n",
    "counts = logits.exp() # equiv of the N matrix in the bigram\n",
    "print(counts)\n",
    "probs = counts / counts.sum(1, keepdims=True)\n",
    "print(probs)"
   ]
  },
  {
   "cell_type": "code",
   "execution_count": 103,
   "metadata": {},
   "outputs": [
    {
     "name": "stdout",
     "output_type": "stream",
     "text": [
      "probs[0].sum()=tensor(1.0000), probs.shape=torch.Size([5, 27])\n"
     ]
    }
   ],
   "source": [
    "print(f'{probs[0].sum()=}, {probs.shape=}') # every row sums to one, with shape 5x27"
   ]
  },
  {
   "cell_type": "code",
   "execution_count": 104,
   "metadata": {},
   "outputs": [
    {
     "data": {
      "text/plain": [
       "tensor([ 0,  5, 13, 13,  1])"
      ]
     },
     "execution_count": 104,
     "metadata": {},
     "output_type": "execute_result"
    }
   ],
   "source": [
    "xs"
   ]
  },
  {
   "cell_type": "code",
   "execution_count": 105,
   "metadata": {},
   "outputs": [
    {
     "data": {
      "text/plain": [
       "tensor([ 5, 13, 13,  1,  0])"
      ]
     },
     "execution_count": 105,
     "metadata": {},
     "output_type": "execute_result"
    }
   ],
   "source": [
    "ys"
   ]
  },
  {
   "cell_type": "code",
   "execution_count": 122,
   "metadata": {},
   "outputs": [],
   "source": [
    "# randomly initialize 27 neurons weights, each neuron receives 27 inputs\n",
    "g = torch.Generator().manual_seed(1337)\n",
    "W = torch.randn((27, 27), generator=g, requires_grad=True)"
   ]
  },
  {
   "cell_type": "code",
   "execution_count": 140,
   "metadata": {},
   "outputs": [],
   "source": [
    "# forward pass\n",
    "xenc = F.one_hot(xs, num_classes=27).float() # input to the network - one-hot encoding - https://pytorch.org/docs/stable/generated/torch.nn.functional.one_hot.html\n",
    "logits = xenc @ W # predicts log-counts\n",
    "counts = logits.exp() # counts, equiv to N in the bigram\n",
    "probs = counts/counts.sum(1,keepdims=True) # normalize counts, probs for the next char\n",
    "# counts & probs are also called \"softmax\"\n",
    "loss = -probs[torch.arange(5), ys].log().mean() # a.k.a. nll"
   ]
  },
  {
   "cell_type": "code",
   "execution_count": 141,
   "metadata": {},
   "outputs": [
    {
     "data": {
      "text/plain": [
       "torch.Size([5, 27])"
      ]
     },
     "execution_count": 141,
     "metadata": {},
     "output_type": "execute_result"
    }
   ],
   "source": [
    "probs.shape"
   ]
  },
  {
   "cell_type": "code",
   "execution_count": 142,
   "metadata": {},
   "outputs": [],
   "source": [
    "# # 'emma' bigram example\n",
    "# nlls = torch.zeros(5)\n",
    "# for i in range(5):\n",
    "#   # i-th bigram\n",
    "#   x = xs[i].item() # input character index\n",
    "#   y = ys[i].item() # label character index\n",
    "#   print('---')\n",
    "#   print(f'bigram example {i+1}: {itos[x]}{itos[y]} (indexes {x},{y})')\n",
    "#   print('input to the neural net:', x)\n",
    "#   print('output probs from the neural net:', probs[i])\n",
    "#   print('label (actual next char):', y)\n",
    "#   p = probs[i, y]\n",
    "#   print('probability assigned by the net to the correct character:', p.item())\n",
    "#   logp = torch.log(p)\n",
    "#   print('log likelihood:', logp.item())\n",
    "#   nll = -logp\n",
    "#   print('negative log likelihood:', nll.item())\n",
    "#   nlls[i] = nll\n",
    "\n",
    "# print('===')\n",
    "# print(f'avg nll (loss): {nlls.mean().item()}')"
   ]
  },
  {
   "cell_type": "code",
   "execution_count": 143,
   "metadata": {},
   "outputs": [],
   "source": [
    "# backward pass\n",
    "W.grad = None # set gradient to zero\n",
    "loss.backward()"
   ]
  },
  {
   "cell_type": "code",
   "execution_count": 144,
   "metadata": {},
   "outputs": [
    {
     "name": "stdout",
     "output_type": "stream",
     "text": [
      "tensor(3.4782, grad_fn=<NegBackward0>)\n"
     ]
    }
   ],
   "source": [
    "print(loss)"
   ]
  },
  {
   "cell_type": "code",
   "execution_count": 137,
   "metadata": {},
   "outputs": [
    {
     "data": {
      "text/plain": [
       "torch.Size([27, 27])"
      ]
     },
     "execution_count": 137,
     "metadata": {},
     "output_type": "execute_result"
    }
   ],
   "source": [
    "W.shape"
   ]
  },
  {
   "cell_type": "code",
   "execution_count": 138,
   "metadata": {},
   "outputs": [
    {
     "data": {
      "text/plain": [
       "torch.Size([27, 27])"
      ]
     },
     "execution_count": 138,
     "metadata": {},
     "output_type": "execute_result"
    }
   ],
   "source": [
    "W.grad.shape"
   ]
  },
  {
   "cell_type": "code",
   "execution_count": 139,
   "metadata": {},
   "outputs": [],
   "source": [
    "W.data += -0.1 * W.grad"
   ]
  },
  {
   "cell_type": "code",
   "execution_count": 145,
   "metadata": {},
   "outputs": [],
   "source": [
    "# ---- actual gradient descent ----"
   ]
  },
  {
   "cell_type": "code",
   "execution_count": 171,
   "metadata": {},
   "outputs": [
    {
     "name": "stdout",
     "output_type": "stream",
     "text": [
      "num of examples:  228146\n"
     ]
    }
   ],
   "source": [
    "# create dataset\n",
    "xs, ys = [], []\n",
    "for w in words:\n",
    "  chs = ['.'] + list(w) + ['.']\n",
    "  for ch1, ch2 in zip(chs, chs[1:]):\n",
    "    ix1 = stoi[ch1]\n",
    "    ix2 = stoi[ch2]\n",
    "    xs.append(ix1)\n",
    "    ys.append(ix2)\n",
    "xs = torch.tensor(xs)\n",
    "ys = torch.tensor(ys)\n",
    "num = xs.nelement()\n",
    "print('num of examples: ', num)\n",
    "\n",
    "# initialize network\n",
    "g = torch.Generator().manual_seed(1337)\n",
    "W = torch.randn((27, 27), generator=g, requires_grad=True)"
   ]
  },
  {
   "cell_type": "code",
   "execution_count": 188,
   "metadata": {},
   "outputs": [
    {
     "name": "stdout",
     "output_type": "stream",
     "text": [
      "2.4803988933563232\n"
     ]
    }
   ],
   "source": [
    "# gradient descent\n",
    "reg_strength = 0.01\n",
    "\n",
    "for k in range(1000):\n",
    "  # forward pass\n",
    "  xenc = F.one_hot(xs, num_classes=27).float() # input to the network - one-hot encoding\n",
    "  logits = xenc @ W # predict log-counts\n",
    "  counts = logits.exp() # counts, equiv to N in the bigram\n",
    "  probs = counts/counts.sum(1,keepdims=True) # normalize counts, probs for the next char\n",
    "  loss = -probs[torch.arange(num), ys].log().mean() + reg_strength * (W**2).mean() # a.k.a. nll; (W**2).mean() is for regularization, i.e. to prevent the probabilities from becoming too extreme (infinite), also fights overfitting; reg_strength is a hyperparameter\n",
    "  # print(loss.item())\n",
    "\n",
    "  # backward pass\n",
    "  W.grad = None # set gradient to zero\n",
    "  loss.backward()\n",
    "\n",
    "  # update\n",
    "  W.data += -50 * W.grad\n",
    "print(loss.item())"
   ]
  },
  {
   "cell_type": "code",
   "execution_count": 193,
   "metadata": {},
   "outputs": [
    {
     "name": "stdout",
     "output_type": "stream",
     "text": [
      "cexze.\n",
      "momasurailezityha.\n",
      "konimittain.\n",
      "llayn.\n",
      "ka.\n"
     ]
    }
   ],
   "source": [
    "# sample neural net\n",
    "g = torch.Generator().manual_seed(2147483647)\n",
    "\n",
    "for i in range(5):\n",
    "  out =[]\n",
    "  ix = 0\n",
    "  while True:\n",
    "    # before:\n",
    "    # p = P[ix]\n",
    "    # now:\n",
    "    xenc = F.one_hot(torch.tensor([ix]), num_classes=27).float()\n",
    "    logits = xenc @ W # predict log-counts\n",
    "    counts = logits.exp() # counts, equiv to N in the bigram\n",
    "    p = counts/counts.sum(1, keepdims=True) # normalize counts, probs for the next char\n",
    "\n",
    "    ix = torch.multinomial(p, num_samples=1, replacement=True, generator=g).item()\n",
    "    out.append(ix)\n",
    "    if ix == 0:\n",
    "      break\n",
    "  print(''.join(itos[i] for i in out))"
   ]
  },
  {
   "cell_type": "code",
   "execution_count": null,
   "metadata": {},
   "outputs": [],
   "source": [
    "# result from bigram model:\n",
    "# cexze.\n",
    "# momasurailezitynn.\n",
    "# konimittain.\n",
    "# llayn.\n",
    "# ka.\n",
    "\n",
    "# surprise (not really) - current neural net works the same as the bigram model"
   ]
  }
 ],
 "metadata": {
  "kernelspec": {
   "display_name": "Python 3",
   "language": "python",
   "name": "python3"
  },
  "language_info": {
   "codemirror_mode": {
    "name": "ipython",
    "version": 3
   },
   "file_extension": ".py",
   "mimetype": "text/x-python",
   "name": "python",
   "nbconvert_exporter": "python",
   "pygments_lexer": "ipython3",
   "version": "3.11.10"
  },
  "orig_nbformat": 4
 },
 "nbformat": 4,
 "nbformat_minor": 2
}
